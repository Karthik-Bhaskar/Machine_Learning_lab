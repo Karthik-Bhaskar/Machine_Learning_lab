{
 "cells": [
  {
   "cell_type": "markdown",
   "metadata": {},
   "source": [
    "# Kernel - PCA"
   ]
  },
  {
   "cell_type": "code",
   "execution_count": 12,
   "metadata": {
    "collapsed": true
   },
   "outputs": [],
   "source": [
    "#from sklearn.datasets import make_moons\n",
    "import matplotlib.pyplot as plt\n",
    "import pandas as pd\n",
    "import numpy as np"
   ]
  },
  {
   "cell_type": "code",
   "execution_count": 35,
   "metadata": {
    "collapsed": false
   },
   "outputs": [
    {
     "data": {
      "image/png": "[encoded data removed]",
      "text/plain": [
       "<matplotlib.figure.Figure at 0x1a16a8b320>"
      ]
     },
     "metadata": {},
     "output_type": "display_data"
    }
   ],
   "source": [
    "# Create a few random points\n",
    "np.random.seed(100)\n",
    "features =np.random.rand(100,2)\n",
    "label = np.random.randint(0,2,(100,1))\n",
    "df = pd.DataFrame(dict(x=features[:,0], y=features[:,1], label=label[:,0]))\n",
    "colors = {0:'red', 1:'blue'}\n",
    "fig, ax = plt.subplots()\n",
    "grouped = df.groupby('label')\n",
    "for key, group in grouped:\n",
    "    group.plot(ax=ax, kind='scatter', x='x', y='y', label=key, color=colors[key])\n",
    "plt.show()"
   ]
  },
  {
   "cell_type": "code",
   "execution_count": 251,
   "metadata": {
    "collapsed": true
   },
   "outputs": [],
   "source": [
    "X, y = make_circles(n_samples=400, factor=.3, noise=.05)"
   ]
  },
  {
   "cell_type": "code",
   "execution_count": 252,
   "metadata": {
    "collapsed": false
   },
   "outputs": [
    {
     "data": {
      "image/png": "[encoded data removed]",
      "text/plain": [
       "<matplotlib.figure.Figure at 0x1a16ce3d30>"
      ]
     },
     "metadata": {},
     "output_type": "display_data"
    }
   ],
   "source": [
    "# applying PCA on to random dataset\n",
    "from sklearn.preprocessing import StandardScaler\n",
    "from sklearn.decomposition import PCA\n",
    "\n",
    "x = StandardScaler().fit_transform(X)\n",
    "pca = PCA(n_components=2)\n",
    "pc = pca.fit_transform(x)\n",
    "\n",
    "principalDf = pd.DataFrame(data = pc\n",
    "                           ,columns = ['PC_1', 'PC_2'])\n",
    "principalDf['label'] = y\n",
    "\n",
    "# ploting\n",
    "colors = {0:'red', 1:'blue'}\n",
    "fig, ax = plt.subplots()\n",
    "grouped = principalDf.groupby('label')\n",
    "for key, group in grouped:\n",
    "    group.plot(ax=ax, kind='scatter', x='PC_1', y='PC_2', label=key, color=colors[key])\n",
    "\n",
    "plt.show()"
   ]
  },
  {
   "cell_type": "code",
   "execution_count": 79,
   "metadata": {
    "collapsed": false
   },
   "outputs": [
    {
     "data": {
      "text/plain": [
       "(array([ 9.3418921,  0.4081079]), array([[ 0.80864711, -0.58829402],\n",
       "        [ 0.58829402,  0.80864711]]))"
      ]
     },
     "execution_count": 79,
     "metadata": {},
     "output_type": "execute_result"
    }
   ],
   "source": [
    "#np.linalg.eig(cov_mat)"
   ]
  },
  {
   "cell_type": "code",
   "execution_count": 277,
   "metadata": {
    "collapsed": false
   },
   "outputs": [
    {
     "data": {
      "text/plain": [
       "array([[ 1.        ,  0.66258662,  0.71920828, ...,  0.7604518 ,\n",
       "         0.36720297,  0.56705007],\n",
       "       [ 0.66258662,  1.        ,  0.89410268, ...,  0.6669064 ,\n",
       "         0.55094486,  0.58764104],\n",
       "       [ 0.71920828,  0.89410268,  1.        , ...,  0.67420489,\n",
       "         0.49688906,  0.6407317 ],\n",
       "       ..., \n",
       "       [ 0.7604518 ,  0.6669064 ,  0.67420489, ...,  1.        ,\n",
       "         0.40469946,  0.45877642],\n",
       "       [ 0.36720297,  0.55094486,  0.49688906, ...,  0.40469946,\n",
       "         1.        ,  0.37652343],\n",
       "       [ 0.56705007,  0.58764104,  0.6407317 , ...,  0.45877642,\n",
       "         0.37652343,  1.        ]])"
      ]
     },
     "execution_count": 277,
     "metadata": {},
     "output_type": "execute_result"
    }
   ],
   "source": [
    "C"
   ]
  },
  {
   "cell_type": "code",
   "execution_count": 111,
   "metadata": {
    "collapsed": false
   },
   "outputs": [
    {
     "name": "stdout",
     "output_type": "stream",
     "text": [
      "Covariance matrix \n",
      "[[ 1.          0.10235266]\n",
      " [ 0.10235266  1.        ]]\n"
     ]
    }
   ],
   "source": [
    "# covariance matrix of randomly generated data\n",
    "mean_vec = np.mean(x, axis=0)\n",
    "cov_mat = (x - mean_vec).T.dot((x - mean_vec)) / (x.shape[0])\n",
    "print('Covariance matrix \\n%s' %cov_mat)"
   ]
  },
  {
   "cell_type": "code",
   "execution_count": 425,
   "metadata": {
    "collapsed": false
   },
   "outputs": [],
   "source": [
    "# calculate covariance matrix using kernels\n",
    "def kernel(x, y, mode = 'rbf', sigma = 0.25, c = 1): \n",
    "    \n",
    "    if mode == 'rbf':\n",
    "        rbf = np.exp(-np.linalg.norm(x - y)/ 2*sigma**2)\n",
    "        return rbf\n",
    "    "
   ]
  },
  {
   "cell_type": "code",
   "execution_count": 426,
   "metadata": {
    "collapsed": false
   },
   "outputs": [],
   "source": [
    "# calculating the gram matrix or C = 1/n * summation(i,n) k(xi,xi)\n",
    "np.random.seed(0)\n",
    "X, y = make_circles(n_samples=400, factor=.3, noise=.05)\n",
    "A = X\n",
    "n = A.shape[0]\n",
    "d = A.shape[1]\n",
    "K = np.ones((n, n))\n",
    "for i in range(n):\n",
    "    for j in range(n):\n",
    "        K[i, j] = kernel(A[i], A[j])\n",
    "\n",
    "K_SUM = K.sum() / (n ** 2)\n",
    "K_SUMROWS = K.sum(axis=1) / n\n",
    "\n",
    "C_ = np.ones((n, n))\n",
    "for i in range(n):\n",
    "    for j in range(n):\n",
    "        C_[i, j] = K[i, j] - K_SUMROWS[i] - K_SUMROWS[j] + K_SUM\n",
    "\n",
    "\n",
    "        "
   ]
  },
  {
   "cell_type": "code",
   "execution_count": 427,
   "metadata": {
    "collapsed": false
   },
   "outputs": [],
   "source": [
    "# eigen values and vectors of the calculated matrix C_std\n",
    "eig_values, eig_vectors = np.linalg.eig(C_)\n",
    "idx = eig_values.argsort()[::-1]   \n",
    "eig_values = eig_values[idx]\n",
    "eig_vectors = eig_vectors[:,idx]\n",
    "sub_eig_vectors = eig_vectors[0:d,:]"
   ]
  },
  {
   "cell_type": "code",
   "execution_count": 437,
   "metadata": {
    "collapsed": false
   },
   "outputs": [
    {
     "data": {
      "text/plain": [
       "(2, 400)"
      ]
     },
     "execution_count": 437,
     "metadata": {},
     "output_type": "execute_result"
    }
   ],
   "source": [
    "sub_eig_vectors.shape"
   ]
  },
  {
   "cell_type": "code",
   "execution_count": 440,
   "metadata": {
    "collapsed": false
   },
   "outputs": [],
   "source": [
    "# calculating PC_1 and PC_2\n",
    "\"\"\"PC = 2\n",
    "final = np.zeros((PC, X.shape[0]))\n",
    "for i in range(PC):\n",
    "    for j in range(X.shape[0]):\n",
    "        temp = 0\n",
    "        for z in range(X.shape[0]):\n",
    "            temp = temp + eigen_vectors[i,j]*kernel(C_std[i],C_std[z])\n",
    "        \n",
    "        final[i,j] = temp\"\"\"\n",
    "\n",
    "eig_vectors = eig_vectors.T\n",
    "A_new = np.ones((n,d))\n",
    "for i in range(n):\n",
    "    for j in range(d):\n",
    "        coco = 0\n",
    "        for z in range(n):\n",
    "            coco = coco + sub_eig_vectors[z,j]*kernel(A[i],A[z])\n",
    "        A_new[i,j] = coco\n"
   ]
  },
  {
   "cell_type": "code",
   "execution_count": 441,
   "metadata": {
    "collapsed": false
   },
   "outputs": [
    {
     "data": {
      "text/plain": [
       "0.050000000000990398"
      ]
     },
     "execution_count": 441,
     "metadata": {},
     "output_type": "execute_result"
    }
   ],
   "source": [
    "eig_vectors[z,j]"
   ]
  },
  {
   "cell_type": "code",
   "execution_count": null,
   "metadata": {
    "collapsed": false
   },
   "outputs": [],
   "source": []
  },
  {
   "cell_type": "code",
   "execution_count": 974,
   "metadata": {
    "collapsed": false
   },
   "outputs": [
    {
     "data": {
      "image/png": "[encoded data removed]",
      "text/plain": [
       "<matplotlib.figure.Figure at 0x1a15f14940>"
      ]
     },
     "metadata": {},
     "output_type": "display_data"
    }
   ],
   "source": [
    "#Kernel PCA plot\n",
    "kernelDf = pd.DataFrame(data = X_new\n",
    "                           ,columns = ['PC_1', 'PC_2'])\n",
    "kernelDf['label'] = y\n",
    "\n",
    "# ploting\n",
    "colors = {0:'red', 1:'blue'}\n",
    "fig, ax = plt.subplots()\n",
    "#fig.set_size_inches(1,1)\n",
    "grouped = kernelDf.groupby('label')\n",
    "for key, group in grouped:\n",
    "    group.plot(ax=ax, kind='scatter', x='PC_1', y='PC_2', label=key, color=colors[key])\n",
    "\n",
    "plt.show()"
   ]
  },
  {
   "cell_type": "code",
   "execution_count": 480,
   "metadata": {
    "collapsed": false
   },
   "outputs": [],
   "source": [
    "from sklearn.decomposition import KernelPCA\n",
    "#transformer = KernelPCA(n_components=2, kernel='rbf', gamma= 10)\n",
    "#X_transformed = transformer.fit_transform(X)\n",
    "#np.random.seed(0)\n",
    "#X, y = make_circles(n_samples=400, factor=.3, noise=.05)\n",
    "\n",
    "kpca = KernelPCA(kernel=\"rbf\", fit_inverse_transform=True, gamma=8)\n",
    "X_kpca = kpca.fit_transform(X)\n",
    "\n",
    "\n",
    "# Plot results"
   ]
  },
  {
   "cell_type": "code",
   "execution_count": 432,
   "metadata": {
    "collapsed": false
   },
   "outputs": [
    {
     "data": {
      "text/plain": [
       "(400, 2)"
      ]
     },
     "execution_count": 432,
     "metadata": {},
     "output_type": "execute_result"
    }
   ],
   "source": [
    "X_kpca[:,:2].shape"
   ]
  },
  {
   "cell_type": "code",
   "execution_count": 481,
   "metadata": {
    "collapsed": false
   },
   "outputs": [
    {
     "data": {
      "image/png": "[encoded data removed]",
      "text/plain": [
       "<matplotlib.figure.Figure at 0x1a16578898>"
      ]
     },
     "metadata": {},
     "output_type": "display_data"
    }
   ],
   "source": [
    "#Kernel PCA plot\n",
    "kernelDf_true = pd.DataFrame(data = X_kpca[:,:2]\n",
    "                           ,columns = ['PC_1', 'PC_2'])\n",
    "kernelDf_true['label'] = y\n",
    "\n",
    "# plotting\n",
    "colors = {0:'red', 1:'blue'}\n",
    "fig, ax = plt.subplots()\n",
    "grouped = kernelDf_true.groupby('label')\n",
    "for key, group in grouped:\n",
    "    group.plot(ax=ax, kind='scatter', x='PC_1', y='PC_2', label=key, color=colors[key])\n",
    "\n",
    "plt.show()"
   ]
  },
  {
   "cell_type": "code",
   "execution_count": 354,
   "metadata": {
    "collapsed": true
   },
   "outputs": [],
   "source": []
  },
  {
   "cell_type": "code",
   "execution_count": 970,
   "metadata": {
    "collapsed": false
   },
   "outputs": [
    {
     "data": {
      "image/png": "[encoded data removed]",
      "text/plain": [
       "<matplotlib.figure.Figure at 0x1a1570a400>"
      ]
     },
     "metadata": {},
     "output_type": "display_data"
    }
   ],
   "source": [
    "reds = y == 0\n",
    "blues = y == 1\n",
    "plt.scatter(X_kpca[reds, 0], X_kpca[reds, 1], c=\"red\",\n",
    "            s=20)\n",
    "plt.scatter(X_kpca[blues, 0], X_kpca[blues, 1], c=\"blue\",\n",
    "            s=20)\n",
    "plt.show()"
   ]
  },
  {
   "cell_type": "code",
   "execution_count": 189,
   "metadata": {
    "collapsed": true
   },
   "outputs": [],
   "source": [
    "from sklearn.datasets import make_circles"
   ]
  },
  {
   "cell_type": "code",
   "execution_count": 190,
   "metadata": {
    "collapsed": true
   },
   "outputs": [],
   "source": [
    "X, y = make_circles(n_samples=400, factor=.3, noise=.05)"
   ]
  },
  {
   "cell_type": "code",
   "execution_count": 197,
   "metadata": {
    "collapsed": false
   },
   "outputs": [
    {
     "data": {
      "image/png": "[encoded data removed]",
      "text/plain": [
       "<matplotlib.figure.Figure at 0x1a156f1518>"
      ]
     },
     "metadata": {},
     "output_type": "display_data"
    }
   ],
   "source": [
    "plt.figure(figsize= (5,5))\n",
    "plt.subplot(2, 2, 1, aspect='equal')\n",
    "plt.title(\"Original space\")\n",
    "reds = y == 0\n",
    "blues = y == 1\n",
    "\n",
    "plt.scatter(X[reds, 0], X[reds, 1], c=\"red\",\n",
    "            s=20, edgecolor='k')\n",
    "plt.scatter(X[blues, 0], X[blues, 1], c=\"blue\",\n",
    "            s=20, edgecolor='k')\n",
    "plt.xlabel(\"$x_1$\")\n",
    "plt.ylabel(\"$x_2$\")\n",
    "plt.show()"
   ]
  },
  {
   "cell_type": "code",
   "execution_count": 969,
   "metadata": {
    "collapsed": true
   },
   "outputs": [],
   "source": [
    "kpca = KernelPCA(kernel=\"rbf\", fit_inverse_transform=True, gamma=10)\n",
    "X_kpca = kpca.fit_transform(X)\n",
    "X_back = kpca.inverse_transform(X_kpca)\n",
    "pca = PCA()\n",
    "X_pca = pca.fit_transform(X)"
   ]
  },
  {
   "cell_type": "code",
   "execution_count": 375,
   "metadata": {
    "collapsed": false
   },
   "outputs": [
    {
     "data": {
      "image/png": "[encoded data removed]",
      "text/plain": [
       "<matplotlib.figure.Figure at 0x1a176867b8>"
      ]
     },
     "metadata": {},
     "output_type": "display_data"
    }
   ],
   "source": [
    "import numpy as np\n",
    "import matplotlib.pyplot as plt\n",
    "\n",
    "from sklearn.decomposition import PCA, KernelPCA\n",
    "from sklearn.datasets import make_circles\n",
    "\n",
    "np.random.seed(0)\n",
    "X, y = make_circles(n_samples=400, factor=.3, noise=.05)\n",
    "\n",
    "kpca = KernelPCA(kernel=\"rbf\", fit_inverse_transform=True, gamma=10)\n",
    "X_kpca = kpca.fit_transform(X)\n",
    "X_back = kpca.inverse_transform(X_kpca)\n",
    "pca = PCA()\n",
    "X_pca = pca.fit_transform(X)\n",
    "\n",
    "# Plot results\n",
    "\n",
    "plt.figure(figsize= (10,10))\n",
    "\n",
    "plt.subplot(2, 2, 1, aspect='equal')\n",
    "plt.title(\"Original space\")\n",
    "reds = y == 0\n",
    "blues = y == 1\n",
    "\n",
    "plt.scatter(X[reds, 0], X[reds, 1], c=\"red\",\n",
    "            s=20, edgecolor='k')\n",
    "plt.scatter(X[blues, 0], X[blues, 1], c=\"blue\",\n",
    "            s=20, edgecolor='k')\n",
    "plt.xlabel(\"$x_1$\")\n",
    "plt.ylabel(\"$x_2$\")\n",
    "\n",
    "X1, X2 = np.meshgrid(np.linspace(-1.5, 1.5, 50), np.linspace(-1.5, 1.5, 50))\n",
    "X_grid = np.array([np.ravel(X1), np.ravel(X2)]).T\n",
    "# projection on the first principal component (in the phi space)\n",
    "Z_grid = kpca.transform(X_grid)[:, 0].reshape(X1.shape)\n",
    "plt.contour(X1, X2, Z_grid, colors='grey', linewidths=1, origin='lower')\n",
    "\n",
    "plt.subplot(2, 2, 2, aspect='equal')\n",
    "plt.scatter(X_pca[reds, 0], X_pca[reds, 1], c=\"red\",\n",
    "            s=20, edgecolor='k')\n",
    "plt.scatter(X_pca[blues, 0], X_pca[blues, 1], c=\"blue\",\n",
    "            s=20, edgecolor='k')\n",
    "plt.title(\"Projection by PCA\")\n",
    "plt.xlabel(\"1st principal component\")\n",
    "plt.ylabel(\"2nd component\")\n",
    "\n",
    "plt.subplot(2, 2, 3, aspect='equal')\n",
    "plt.scatter(X_kpca[reds, 0], X_kpca[reds, 1], c=\"red\",\n",
    "            s=20, edgecolor='k')\n",
    "plt.scatter(X_kpca[blues, 0], X_kpca[blues, 1], c=\"blue\",\n",
    "            s=20, edgecolor='k')\n",
    "plt.title(\"Projection by KPCA\")\n",
    "plt.xlabel(\"1st principal component in space induced by $\\phi$\")\n",
    "plt.ylabel(\"2nd component\")\n",
    "\n",
    "plt.subplot(2, 2, 4, aspect='equal')\n",
    "plt.scatter(X_back[reds, 0], X_back[reds, 1], c=\"red\",\n",
    "            s=20, edgecolor='k')\n",
    "plt.scatter(X_back[blues, 0], X_back[blues, 1], c=\"blue\",\n",
    "            s=20, edgecolor='k')\n",
    "plt.title(\"Original space after inverse transform\")\n",
    "plt.xlabel(\"$x_1$\")\n",
    "plt.ylabel(\"$x_2$\")\n",
    "\n",
    "plt.subplots_adjust(0.02, 0.10, 0.98, 0.94, 0.04, 0.35)\n",
    "\n",
    "plt.show()"
   ]
  },
  {
   "cell_type": "code",
   "execution_count": 447,
   "metadata": {
    "collapsed": false
   },
   "outputs": [
    {
     "data": {
      "text/plain": [
       "(400, 400)"
      ]
     },
     "execution_count": 447,
     "metadata": {},
     "output_type": "execute_result"
    }
   ],
   "source": [
    "eig_vectors.shape"
   ]
  },
  {
   "cell_type": "code",
   "execution_count": 971,
   "metadata": {
    "collapsed": false
   },
   "outputs": [
    {
     "data": {
      "text/plain": [
       "\"if __name__ = '__main__':\\n    \\n    PC = 2 # number of principle components\\n    SIGMA = 0.25 # sigma value for rbf kernel\\n    \\n    np.random.seed(0)\\n    X, y = make_circles(n_samples=400, factor=.3, noise=.05) # dataset for comparison\\n    \\n    \""
      ]
     },
     "execution_count": 971,
     "metadata": {},
     "output_type": "execute_result"
    }
   ],
   "source": [
    "np.random.seed(0)\n",
    "\n",
    "# Dependencies\n",
    "import numpy as np\n",
    "import matplotlib.pyplot as plt\n",
    "from sklearn.decomposition import PCA, KernelPCA\n",
    "from sklearn.datasets import make_circles\n",
    "from sklearn.preprocessing import StandardScaler\n",
    "\n",
    "\n",
    "\n",
    "class Kernel_PCA(object):\n",
    "    \n",
    "    def __init__(self, X, y, mode): \n",
    "        \n",
    "        self.X = X\n",
    "        self.y = y\n",
    "        self.mode = mode\n",
    "        self.X_my_new = self._kpca_implementation()\n",
    "        #self.X_new = \n",
    "        \n",
    "    def _kernels(self, x_i, x_j, mode = 'rbf'):\n",
    "        \n",
    "        if mode == \"rbf\":\n",
    "            #print(SIGMA)\n",
    "            return np.exp(-GAMMA * np.linalg.norm(x_i - x_j)**2)\n",
    "        \n",
    "        elif mode == \"polynomial\":\n",
    "            return (x_i.T.dot(x_j) + 1) ** 2\n",
    "        \n",
    "        elif mode == \"sigmoid\":\n",
    "            return tanh(K3_alpha*X.T.dot(Y) + K3_constatnt)\n",
    "        \n",
    "    def _kpca_implementation(self, PC = 2):\n",
    "        \n",
    "        # standardize the feature vector\n",
    "        #X_std = StandardScaler().fit_transform(self.X)\n",
    "        X_std = self.X\n",
    "        # Calculating the kernel \n",
    "        n = X_std.shape[0]\n",
    "        d = X_std.shape[1]\n",
    "        K = np.zeros((X_std.shape[0],X_std.shape[0]))\n",
    "        for i in range(n):\n",
    "            for j in range(n):\n",
    "                K[i,j] = self._kernels(X_std[i],X_std[j], self.mode)\n",
    "        \n",
    "        # Centering the kernel\n",
    "        I = np.ones((n,n))/n\n",
    "        K_center = K - 2*np.dot(I,K) + np.dot(np.dot(I,K),I)\n",
    "        \n",
    "        \"\"\"K_sum = K.sum() / (n ** 2)\n",
    "        K_rowsum = K.sum(axis=1) / n\n",
    "        K_center = np.zeros((n,n))\n",
    "        for i in range(n):\n",
    "            for j in range(n):\n",
    "                K_center[i,j] = K[i,j] - K_rowsum[i] - K_rowsum[j] + K_sum\n",
    "                \"\"\"\n",
    "        # Caculating eigne values and eigen vectors\n",
    "        eig_values, eig_vectors = np.linalg.eig(K_center)\n",
    "        idx = eig_values.argsort()[::-1]   \n",
    "        eig_values = eig_values[idx]\n",
    "        eig_vectors = eig_vectors[:,idx]\n",
    "\n",
    "        # Calculating the new representation of X \n",
    "        eig_vectors_pc = eig_vectors[:,:PC].T\n",
    "        X_new = np.zeros((n, PC))\n",
    "        for i in range(n):\n",
    "            for j in range(PC):\n",
    "                temp = 0\n",
    "                for k in range(n):\n",
    "                    temp += eig_vectors[k,j]*self._kernels(X_std[i],X_std[k])\n",
    "                \n",
    "                X_new[i,j] = temp\n",
    "        \n",
    "        return X_new\n",
    "        \n",
    "PC = 2 # number of principle components\n",
    "GAMMA = 8 # sigma value for rbf kernel\n",
    "\n",
    "np.random.seed(0)\n",
    "X, y = make_circles(n_samples=400, factor=.3, noise=.05) # dataset for comparison\n",
    "        \n",
    "\"\"\"if __name__ = '__main__':\n",
    "    \n",
    "    PC = 2 # number of principle components\n",
    "    SIGMA = 0.25 # sigma value for rbf kernel\n",
    "    \n",
    "    np.random.seed(0)\n",
    "    X, y = make_circles(n_samples=400, factor=.3, noise=.05) # dataset for comparison\n",
    "    \n",
    "    \"\"\"\n",
    "    "
   ]
  },
  {
   "cell_type": "code",
   "execution_count": 972,
   "metadata": {
    "collapsed": false
   },
   "outputs": [
    {
     "name": "stderr",
     "output_type": "stream",
     "text": [
      "/Users/allwynjoseph/anaconda/lib/python3.6/site-packages/ipykernel/__main__.py:73: ComplexWarning: Casting complex values to real discards the imaginary part\n"
     ]
    }
   ],
   "source": [
    "pca = Kernel_PCA(X, y, 'rbf')"
   ]
  },
  {
   "cell_type": "code",
   "execution_count": 973,
   "metadata": {
    "collapsed": true
   },
   "outputs": [],
   "source": [
    "X_new = pca.X_my_new"
   ]
  },
  {
   "cell_type": "code",
   "execution_count": null,
   "metadata": {
    "collapsed": false
   },
   "outputs": [],
   "source": []
  },
  {
   "cell_type": "code",
   "execution_count": null,
   "metadata": {
    "collapsed": false
   },
   "outputs": [],
   "source": []
  },
  {
   "cell_type": "code",
   "execution_count": 968,
   "metadata": {
    "collapsed": true
   },
   "outputs": [],
   "source": [
    "from scipy.spatial.distance import pdist, squareform\n",
    "from scipy import exp\n",
    "from scipy.linalg import eigh\n",
    "import numpy as np\n",
    "\n",
    "\n",
    "def stepwise_kpca(X, gamma, n_components):\n",
    "    \"\"\"\n",
    "    Implementation of a RBF kernel PCA.\n",
    "\n",
    "    Arguments:\n",
    "        X: A MxN dataset as NumPy array where the samples are stored as rows (M),\n",
    "           and the attributes defined as columns (N).\n",
    "        gamma: A free parameter (coefficient) for the RBF kernel.\n",
    "        n_components: The number of components to be returned.\n",
    "\n",
    "    \"\"\"\n",
    "    # Calculating the squared Euclidean distances for every pair of points\n",
    "    # in the MxN dimensional dataset.\n",
    "    sq_dists = pdist(X, 'sqeuclidean')\n",
    "\n",
    "    # Converting the pairwise distances into a symmetric MxM matrix.\n",
    "    mat_sq_dists = squareform(sq_dists)\n",
    "\n",
    "    # Computing the MxM kernel matrix.\n",
    "    K = exp(-gamma * mat_sq_dists)\n",
    "\n",
    "    # Centering the symmetric NxN kernel matrix.\n",
    "    N = K.shape[0]\n",
    "    one_n = np.ones((N,N)) / N\n",
    "    K = K - one_n.dot(K) - K.dot(one_n) + one_n.dot(K).dot(one_n)\n",
    "\n",
    "    # Obtaining eigenvalues in descending order with corresponding\n",
    "    # eigenvectors from the symmetric matrix.\n",
    "    eigvals, eigvecs = eigh(K)\n",
    "\n",
    "    # Obtaining the i eigenvectors that corresponds to the i highest eigenvalues.\n",
    "    X_pc = np.column_stack((eigvecs[:,-i] for i in range(1,n_components+1)))\n",
    "\n",
    "    return X_pc"
   ]
  },
  {
   "cell_type": "code",
   "execution_count": null,
   "metadata": {
    "collapsed": true
   },
   "outputs": [],
   "source": []
  },
  {
   "cell_type": "code",
   "execution_count": null,
   "metadata": {
    "collapsed": true
   },
   "outputs": [],
   "source": []
  },
  {
   "cell_type": "code",
   "execution_count": null,
   "metadata": {
    "collapsed": true
   },
   "outputs": [],
   "source": []
  },
  {
   "cell_type": "markdown",
   "metadata": {},
   "source": [
    "# Kernalised Kmeans"
   ]
  },
  {
   "cell_type": "markdown",
   "metadata": {},
   "source": [
    "## Standard K-means"
   ]
  },
  {
   "cell_type": "code",
   "execution_count": 943,
   "metadata": {
    "collapsed": true
   },
   "outputs": [],
   "source": [
    "# Dependencies \n",
    "from sklearn.datasets import make_blobs\n",
    "import random"
   ]
  },
  {
   "cell_type": "code",
   "execution_count": 952,
   "metadata": {
    "collapsed": false
   },
   "outputs": [],
   "source": [
    "# Use blob dataset python \n",
    "X,Y = make_blobs(400, 2,centers = 4)\n",
    "df = pd.DataFrame(dict(x=X[:,0], y=X[:,1], label=Y))"
   ]
  },
  {
   "cell_type": "code",
   "execution_count": 953,
   "metadata": {
    "collapsed": false
   },
   "outputs": [
    {
     "data": {
      "image/png": "[encoded data removed]",
      "text/plain": [
       "<matplotlib.figure.Figure at 0x1a18c302b0>"
      ]
     },
     "metadata": {},
     "output_type": "display_data"
    }
   ],
   "source": [
    "# Plot the features \n",
    "colors = {0:'red', 1:'blue', 2:'green', 3:'pink'}\n",
    "fig, ax = plt.subplots()\n",
    "grouped = df.groupby('label')\n",
    "for key, group in grouped:\n",
    "    group.plot(ax=ax, kind='scatter', x='x', y='y', label=key, color=colors[key])\n",
    "\n",
    "plt.show()"
   ]
  },
  {
   "cell_type": "code",
   "execution_count": null,
   "metadata": {
    "collapsed": false
   },
   "outputs": [],
   "source": []
  },
  {
   "cell_type": "code",
   "execution_count": 960,
   "metadata": {
    "collapsed": false
   },
   "outputs": [],
   "source": [
    "## Vanilla K-means\n",
    "\n",
    "def assign(distances, rows, n_clusters, centers_temp, threshold = 0):\n",
    "    \n",
    "    global stability\n",
    "    reassign_dict = dict()\n",
    "    for i in range(n_clusters): reassign_dict[i] = list()\n",
    "\n",
    "    for r in range(rows):\n",
    "        temp = [dist_from_ref[i][r] for i in range(n_clusters)]\n",
    "        reassign_dict[temp.index(min(temp))].append(min(temp))\n",
    "        \n",
    "    centers = center_calc(reassign_dict, n_clusters)\n",
    "    if np.linalg.norm(centers - centers_temp) == threshold : stability = True\n",
    "    \n",
    "    return reassign_dict, centers\n",
    "\n",
    "\n",
    "def center_calc(reassign_dict, n_clusters):\n",
    "    \n",
    "    temp_list = list()\n",
    "    \n",
    "    for n in range(n_clusters):\n",
    "        temp_X = X[[j[0] for j in reassign_dict[n]]]\n",
    "        temp_list.append([temp_X[:,0].mean(), temp_X[:,1].mean()])\n",
    "    \n",
    "    return np.array(temp_list)\n",
    "    \n",
    "    \n",
    "def distance(x,x_i, mode = 'linear'):\n",
    "    \n",
    "    if mode == 'linear':\n",
    "        return np.linalg.norm(x - x_i)\n",
    "    \n",
    "    elif mode == 'rbf':\n",
    "        return np.exp(-GAMMA * np.linalg.norm(x - x_i)**2)\n",
    "        \n",
    "\n",
    "n_clusters = 4\n",
    "stability = False \n",
    "GAMMA = 1\n",
    "\n",
    "# selecting 'n_clusters' points at random\n",
    "idx = random.sample(range(1, X.shape[0]), n_clusters)\n",
    "centers_temp = X[idx]\n",
    "\n",
    "chk = 0\n",
    "\n",
    "while not stability:\n",
    "    \n",
    "    dist_from_ref = dict()\n",
    "\n",
    "    for n in range(n_clusters):\n",
    "\n",
    "        dist_from_ref[n] = list()\n",
    "        for i in range(X.shape[0]):\n",
    "            temp_dist =(i, distance(centers_temp[n],X[i], mode = 'rbf'))\n",
    "            dist_from_ref[n].append(temp_dist)\n",
    "            \n",
    "    \n",
    "    dic, centers_temp = assign(dist_from_ref, X.shape[0], n_clusters, centers_temp)\n",
    "    \n",
    "    chk += 1\n",
    "    if chk == 100: break\n"
   ]
  },
  {
   "cell_type": "code",
   "execution_count": null,
   "metadata": {
    "collapsed": false
   },
   "outputs": [],
   "source": []
  },
  {
   "cell_type": "code",
   "execution_count": 961,
   "metadata": {
    "collapsed": false
   },
   "outputs": [
    {
     "ename": "TypeError",
     "evalue": "assign() missing 1 required positional argument: 'centers_temp'",
     "output_type": "error",
     "traceback": [
      "\u001b[0;31m---------------------------------------------------------------------------\u001b[0m",
      "\u001b[0;31mTypeError\u001b[0m                                 Traceback (most recent call last)",
      "\u001b[0;32m<ipython-input-961-b32bcd8fe508>\u001b[0m in \u001b[0;36m<module>\u001b[0;34m()\u001b[0m\n\u001b[0;32m----> 1\u001b[0;31m \u001b[0mdic\u001b[0m \u001b[0;34m=\u001b[0m \u001b[0massign\u001b[0m\u001b[0;34m(\u001b[0m\u001b[0mdist_from_ref\u001b[0m\u001b[0;34m,\u001b[0m \u001b[0;36m400\u001b[0m\u001b[0;34m,\u001b[0m \u001b[0;36m3\u001b[0m\u001b[0;34m)\u001b[0m\u001b[0;34m\u001b[0m\u001b[0m\n\u001b[0m",
      "\u001b[0;31mTypeError\u001b[0m: assign() missing 1 required positional argument: 'centers_temp'"
     ]
    }
   ],
   "source": [
    "dic = assign(dist_from_ref, 400, 3)"
   ]
  },
  {
   "cell_type": "code",
   "execution_count": 962,
   "metadata": {
    "collapsed": false
   },
   "outputs": [],
   "source": [
    "ls = [dic[1][i][0] for i in range(len(dic[1]))]"
   ]
  },
  {
   "cell_type": "code",
   "execution_count": 963,
   "metadata": {
    "collapsed": false
   },
   "outputs": [
    {
     "data": {
      "text/plain": [
       "array([0, 0, 1, 0, 0, 0, 1, 3, 0, 0, 1, 1, 1, 1, 1, 3, 0, 1, 0, 1, 0, 1, 1,\n",
       "       3, 1, 0, 1, 0, 0, 3, 0, 1, 0, 0, 0, 1, 0, 1, 3, 1, 1, 1, 1, 0, 0, 1,\n",
       "       1, 1, 0, 1, 1, 0, 1, 1, 0, 1, 0, 1, 1, 0, 1, 0, 1, 1, 0, 1, 0, 0, 1,\n",
       "       1, 1, 1, 0, 1, 0, 0, 1, 1, 1, 0, 1, 1, 1, 1, 1, 1, 0, 1, 1, 1, 0, 0,\n",
       "       3, 0, 0, 1, 1, 1, 1, 1, 1, 1, 1, 0, 1, 1, 1, 1, 1, 0, 1, 0, 1, 1, 0,\n",
       "       3, 1, 1, 1, 1, 1, 3, 0, 1, 1, 0, 1, 0, 0, 1, 1, 1, 1, 1, 0, 1, 0, 1,\n",
       "       1, 1, 1, 1, 0, 1, 1, 0, 1, 1, 1, 0, 1, 0, 1, 1, 1, 1, 1, 0, 0, 1, 0,\n",
       "       0, 1, 0, 1, 0, 0, 0])"
      ]
     },
     "execution_count": 963,
     "metadata": {},
     "output_type": "execute_result"
    }
   ],
   "source": [
    "Y[ls]"
   ]
  },
  {
   "cell_type": "code",
   "execution_count": 933,
   "metadata": {
    "collapsed": false
   },
   "outputs": [
    {
     "data": {
      "text/plain": [
       "(4, 0.69899510918164065)"
      ]
     },
     "execution_count": 933,
     "metadata": {},
     "output_type": "execute_result"
    }
   ],
   "source": [
    "dic[2][1]"
   ]
  },
  {
   "cell_type": "code",
   "execution_count": 838,
   "metadata": {
    "collapsed": false
   },
   "outputs": [
    {
     "data": {
      "text/plain": [
       "array([-4,  3])"
      ]
     },
     "execution_count": 838,
     "metadata": {},
     "output_type": "execute_result"
    }
   ],
   "source": [
    "temp_2-temp_1"
   ]
  },
  {
   "cell_type": "code",
   "execution_count": 693,
   "metadata": {
    "collapsed": false
   },
   "outputs": [],
   "source": [
    "idx = [temp_array[i][0] for i in range(temp_array.shape[0])]"
   ]
  },
  {
   "cell_type": "code",
   "execution_count": 818,
   "metadata": {
    "collapsed": false
   },
   "outputs": [
    {
     "data": {
      "text/plain": [
       "array([[-4.86963303, -5.34821691],\n",
       "       [-4.27960786, -0.1861594 ],\n",
       "       [-8.98964821, -8.17306212]])"
      ]
     },
     "execution_count": 818,
     "metadata": {},
     "output_type": "execute_result"
    }
   ],
   "source": [
    "centers_temp"
   ]
  },
  {
   "cell_type": "code",
   "execution_count": 860,
   "metadata": {
    "collapsed": false
   },
   "outputs": [
    {
     "data": {
      "text/plain": [
       "array([-8.25811549, -7.63255686])"
      ]
     },
     "execution_count": 860,
     "metadata": {},
     "output_type": "execute_result"
    }
   ],
   "source": [
    "X[idx][1]"
   ]
  },
  {
   "cell_type": "code",
   "execution_count": 747,
   "metadata": {
    "collapsed": false
   },
   "outputs": [],
   "source": [
    "a = [dist_from_ref[i][1] for i in range(3)]"
   ]
  },
  {
   "cell_type": "code",
   "execution_count": 749,
   "metadata": {
    "collapsed": false
   },
   "outputs": [
    {
     "data": {
      "text/plain": [
       "(1, 1.2620234583834797)"
      ]
     },
     "execution_count": 749,
     "metadata": {},
     "output_type": "execute_result"
    }
   ],
   "source": [
    "min(a)"
   ]
  },
  {
   "cell_type": "code",
   "execution_count": 734,
   "metadata": {
    "collapsed": false
   },
   "outputs": [
    {
     "data": {
      "text/plain": [
       "2"
      ]
     },
     "execution_count": 734,
     "metadata": {},
     "output_type": "execute_result"
    }
   ],
   "source": [
    "a.index(min(a))"
   ]
  },
  {
   "cell_type": "code",
   "execution_count": 795,
   "metadata": {
    "collapsed": false
   },
   "outputs": [],
   "source": [
    "a = [[1,2],[3,4]]"
   ]
  },
  {
   "cell_type": "code",
   "execution_count": 791,
   "metadata": {
    "collapsed": false
   },
   "outputs": [
    {
     "data": {
      "text/plain": [
       "116"
      ]
     },
     "execution_count": 791,
     "metadata": {},
     "output_type": "execute_result"
    }
   ],
   "source": [
    "len(X[[j[0] for j in dic[1]]][:,1])"
   ]
  },
  {
   "cell_type": "code",
   "execution_count": 808,
   "metadata": {
    "collapsed": false
   },
   "outputs": [
    {
     "data": {
      "text/plain": [
       "array([[-3.28033224, -3.92147356],\n",
       "       [-3.6786983 , -3.47124501],\n",
       "       [-3.7303536 , -3.97391478],\n",
       "       [-4.71886095, -5.22657717],\n",
       "       [-4.00511756, -3.16132224],\n",
       "       [-4.07359457, -4.41014343],\n",
       "       [-2.63169112, -4.02130454],\n",
       "       [-3.43296698, -4.93759312],\n",
       "       [-6.85976008, -4.0781558 ],\n",
       "       [-3.40444162, -4.70069423],\n",
       "       [-4.99800978, -3.74601186],\n",
       "       [-4.63779232, -3.52386488],\n",
       "       [-3.58833338, -4.37366917],\n",
       "       [-5.6121805 , -3.01481097],\n",
       "       [-3.24487167, -4.43029704],\n",
       "       [-4.22826584, -3.77493148],\n",
       "       [-4.68372868, -3.18810074],\n",
       "       [-4.28173914, -3.93639331],\n",
       "       [-3.19496504, -6.1751874 ],\n",
       "       [-4.07633227, -4.71510546],\n",
       "       [-3.87756587, -3.41330261],\n",
       "       [-3.53280388, -4.55849777],\n",
       "       [-4.54464791, -2.86194186],\n",
       "       [-1.88554032, -5.18736952],\n",
       "       [-4.12763964, -3.14425116],\n",
       "       [-3.23839471, -4.20762447],\n",
       "       [-4.6325904 , -2.83898013],\n",
       "       [-5.28075988, -2.5583562 ],\n",
       "       [-4.69859933, -2.82757801],\n",
       "       [-4.17944793, -3.620023  ],\n",
       "       [-4.07819997, -3.94153268],\n",
       "       [-4.47947511, -3.46850436],\n",
       "       [-4.76614837, -3.85725236],\n",
       "       [-5.9652446 , -2.58388222],\n",
       "       [-5.50179778, -5.81657424],\n",
       "       [-6.63052718, -4.55932035],\n",
       "       [-3.85734216, -4.74906099],\n",
       "       [-1.74682436, -5.44655765],\n",
       "       [-1.96905217, -5.13449602],\n",
       "       [-4.87321926, -2.72640836],\n",
       "       [-4.00256488, -4.17392409],\n",
       "       [-4.022531  , -4.52991412],\n",
       "       [-3.44073885, -3.73105963],\n",
       "       [-4.04564082, -3.3187973 ],\n",
       "       [-3.76696795, -4.25199835],\n",
       "       [-3.56386494, -3.00453305],\n",
       "       [-3.01694989, -5.23056254],\n",
       "       [-4.59232201, -4.18201945],\n",
       "       [-4.80795548, -2.64062772],\n",
       "       [-4.25400342, -3.74227754],\n",
       "       [-4.2414084 , -3.3634831 ],\n",
       "       [-4.89440213, -4.95623521],\n",
       "       [-4.38454911, -4.46617459],\n",
       "       [-3.61840224, -4.7121311 ],\n",
       "       [-4.96599785, -5.88780699],\n",
       "       [-3.34275075, -3.53397151],\n",
       "       [-5.40808666, -3.47143116],\n",
       "       [-4.5018185 , -3.57553147],\n",
       "       [-2.83515299, -6.07205945],\n",
       "       [-3.51789112, -5.02467134],\n",
       "       [-5.09658252, -5.22623911],\n",
       "       [-2.2794036 , -3.08205053],\n",
       "       [-4.94500969, -2.66409762],\n",
       "       [-4.86562834, -4.7479653 ],\n",
       "       [-2.5659367 , -3.5846349 ],\n",
       "       [-4.81462358, -3.34178996],\n",
       "       [-4.64149183, -4.25014812],\n",
       "       [-4.73652261, -4.40755541],\n",
       "       [-4.07142266, -4.36436419],\n",
       "       [-5.06227758, -4.38006956],\n",
       "       [-1.3349616 , -6.90071889],\n",
       "       [-4.85405268, -4.56874194],\n",
       "       [-3.50927425, -4.95343511],\n",
       "       [-2.94694837, -3.19388135],\n",
       "       [-4.36426165, -4.3111428 ],\n",
       "       [-4.58610599, -3.93112352],\n",
       "       [-4.4344727 , -4.71574566],\n",
       "       [-3.36881347, -5.12337663],\n",
       "       [-4.32691307, -3.46104173],\n",
       "       [-3.56826271, -3.60166941],\n",
       "       [-3.47181315, -5.93272735],\n",
       "       [-4.05156631, -5.70447889],\n",
       "       [-6.7900876 , -3.13177134],\n",
       "       [-4.3951053 , -3.67308749],\n",
       "       [-4.41828452, -3.64549673],\n",
       "       [-3.73870558, -5.79317519],\n",
       "       [-4.35099945, -2.87622428],\n",
       "       [-3.52049994, -4.06764568],\n",
       "       [-4.11669912, -4.638864  ],\n",
       "       [-2.8052782 , -2.90410388],\n",
       "       [-4.37880327, -2.80143083],\n",
       "       [-4.42763533, -2.76387509],\n",
       "       [-4.2279451 , -3.13866057],\n",
       "       [-2.09134989, -3.42420988],\n",
       "       [-4.02386196, -5.35167677],\n",
       "       [-1.61150779, -4.13901436],\n",
       "       [-3.46697259, -3.419543  ],\n",
       "       [-5.45546462, -5.08113454],\n",
       "       [-2.98971851, -4.72463289],\n",
       "       [-4.38384281, -5.6361225 ],\n",
       "       [-3.80638475, -4.44036509],\n",
       "       [-6.54481431, -3.97915432],\n",
       "       [-2.52616838, -5.07393797],\n",
       "       [-4.74719039, -5.59365652],\n",
       "       [-4.75499791, -5.58004262],\n",
       "       [-2.51467525, -4.64487214],\n",
       "       [-4.23190026, -3.47427638],\n",
       "       [-3.79753774, -3.5901572 ],\n",
       "       [-4.06173642, -3.46510076],\n",
       "       [-4.75224447, -4.32335332],\n",
       "       [-2.20204792, -3.49617577],\n",
       "       [-4.42013829, -4.07035604],\n",
       "       [-3.91836423, -3.88023594],\n",
       "       [-5.28065501, -5.31692242],\n",
       "       [-6.12445289, -7.31307182],\n",
       "       [-3.21792768, -3.68591248]])"
      ]
     },
     "execution_count": 808,
     "metadata": {},
     "output_type": "execute_result"
    }
   ],
   "source": [
    "X[[j[0] for j in dic[1]]]"
   ]
  },
  {
   "cell_type": "code",
   "execution_count": 899,
   "metadata": {
    "collapsed": false
   },
   "outputs": [
    {
     "data": {
      "text/plain": [
       "-3.8909880075072873"
      ]
     },
     "execution_count": 899,
     "metadata": {},
     "output_type": "execute_result"
    }
   ],
   "source": [
    "X[:,1].mean()"
   ]
  },
  {
   "cell_type": "code",
   "execution_count": null,
   "metadata": {
    "collapsed": true
   },
   "outputs": [],
   "source": []
  }
 ],
 "metadata": {
  "kernelspec": {
   "display_name": "Python 3",
   "language": "python",
   "name": "python3"
  },
  "language_info": {
   "codemirror_mode": {
    "name": "ipython",
    "version": 3
   },
   "file_extension": ".py",
   "mimetype": "text/x-python",
   "name": "python",
   "nbconvert_exporter": "python",
   "pygments_lexer": "ipython3",
   "version": "3.6.0"
  }
 },
 "nbformat": 4,
 "nbformat_minor": 2
}
